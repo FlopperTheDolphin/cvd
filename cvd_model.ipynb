{
 "cells": [
  {
   "cell_type": "markdown",
   "metadata": {
    "extensions": {
     "jupyter_dashboards": {
      "activeView": "grid_default",
      "views": {
       "grid_default": {
        "col": null,
        "height": 2,
        "hidden": true,
        "row": null,
        "width": 2
       }
      }
     }
    },
    "id": "5uX-7GimtO04"
   },
   "source": [
    "# Broker"
   ]
  },
  {
   "cell_type": "code",
   "execution_count": 1,
   "metadata": {
    "extensions": {
     "jupyter_dashboards": {
      "activeView": "grid_default",
      "views": {
       "grid_default": {
        "col": null,
        "height": 2,
        "hidden": true,
        "row": null,
        "width": 2
       }
      }
     }
    },
    "id": "t-ThcuWCtNHQ"
   },
   "outputs": [],
   "source": [
    "\n",
    "sol_order = ['age','sex','death_rate','tampone','PCR','LDH','WBC','D_dimero','linfociti_percentage','neutrofili_su_linfociti'] \n",
    "\n",
    "#define a constant for death rate (?)\n",
    "DEATH_RATE = 0.5\n",
    "#options for single values\n",
    "value_options={'days_v':int(),'pred':[],'is_changed':True}\n",
    "               \n",
    "#dictionary where we find single values which we need to publish \n",
    "values = dict()\n",
    "for opt in value_options:\n",
    "  values[opt[0]] = opt[1]\n",
    "\n",
    "#OPTIONS FOR SLIDER AND DROPDOWNS\n",
    "#(label name,min,max,feature name,i -> IntegerSlider || f-> FloaterSlider)\n",
    "slider_options = [\n",
    "          ('età',18,100,'age','i'),\n",
    "          ('PCR',0,500,'PCR','f'),\n",
    "          ('LDH',100,1000,'LDH','f'),\n",
    "          ('WBC',0,400,'WBC','f'),\n",
    "          ('D-Dimero',100,30000,'D_dimero','f'),\n",
    "          ('linfociti (%)',1,12,'linfociti_percentage','f'),\n",
    "          ('neutrofili/linfociti',0,150,'neutrofili_su_linfociti','f'),\n",
    "          ('death_rate',0,1,'death_rate','f')\n",
    "          ]\n",
    "\n",
    "#(label name,options,feature name,processed values)\n",
    "dropdown_options = [\n",
    "          ['risultato tampone',['positivo','debolmente positivo','negativo','non valido'],'tampone',['positivo','debolmente positivo','negativo','non_valido']],#[2,1,0,-1]],                   \n",
    "          ['sesso',['Maschio','Femmina'],'sex',['M','F']] \n",
    "         ]\n",
    "\n",
    "#values for sliders and dropdowns \n",
    "# slider_values[name_of_slider] = value\n",
    "#dropdown_values[name_of_dropdown] = value\n",
    "slider_values = dict()\n",
    "dropdown_values = dict()\n",
    "for opt in slider_options:\n",
    " # print(opt)\n",
    "  if opt[4] == 'f': \n",
    "   slider_values[str(opt[0])] = float()\n",
    "  else:\n",
    "   slider_values[str(opt[0])] = int()\n",
    "for opt in dropdown_options:\n",
    "  dropdown_values[str(opt[0])] = ''\n",
    "\n",
    "# We define a dict of object wich is called when there's a change in a group of variables\n",
    "sub_dashboard=dict()\n",
    "sub_days=dict()\n",
    "sub_pred=dict()\n",
    "cells=dict()"
   ]
  },
  {
   "cell_type": "markdown",
   "metadata": {
    "extensions": {
     "jupyter_dashboards": {
      "activeView": "grid_default",
      "views": {
       "grid_default": {
        "col": null,
        "height": 2,
        "hidden": true,
        "row": null,
        "width": 2
       }
      }
     }
    },
    "id": "Ot64YUOivzj9"
   },
   "source": [
    "# Import and utils"
   ]
  },
  {
   "cell_type": "code",
   "execution_count": 2,
   "metadata": {
    "extensions": {
     "jupyter_dashboards": {
      "activeView": "grid_default",
      "views": {
       "grid_default": {
        "col": null,
        "height": 2,
        "hidden": true,
        "row": null,
        "width": 2
       }
      }
     }
    },
    "id": "lLjefWfOv2Kj"
   },
   "outputs": [],
   "source": [
    "import ipywidgets as widgets\n",
    "from ipywidgets import interactive\n",
    "from IPython.display import display,clear_output\n",
    "import numpy as np\n",
    "import pandas as pd\n",
    "import dill\n",
    "import os\n",
    "from sklearn.pipeline import Pipeline\n",
    "import matplotlib.pyplot as plt\n",
    "\n",
    "\n",
    "def space():\n",
    "  return widgets.HTML('<br>')\n",
    "\n",
    "def line():\n",
    "  return widgets.HTML('<hr>')\n",
    "\n",
    "def see_values():\n",
    "  print(slider_values)\n",
    "  print(dropdown_values)\n",
    "  print(values)\n",
    "  print(sub_dashboard)\n",
    "  print(sub_days)\n",
    "\n",
    "def change_value(name_variable,value,dict_to_change,subscribers):\n",
    "  dict_to_change[name_variable] = value\n",
    "  #we define mathod update wich update all the variables in the subscriber\n",
    "  #post method on the contrary change value in the broker\n",
    "  for k in subscribers.keys():\n",
    "    subscribers[k].update()   \n",
    "\n",
    "def subscribe(obj,sub):\n",
    "  #sub.append(obj) \n",
    "  sub[id(obj)]=obj\n",
    "\n",
    "# all cells must have compose method to visualize\n",
    "def see(obj,compose=True):\n",
    "  if compose:\n",
    "   display(widgets.VBox([space(),obj.compose()]))   \n",
    "  else:\n",
    "   display(widgets.VBox([space(),obj]))   \n",
    "\n",
    "def get_x(sol_order,slider_options,drodown_options,slider_values,dropdown_values):\n",
    "    #Preprocessing data (we adjust only dropdown values) and order features\n",
    "    x=dict()\n",
    "    for op in slider_options:\n",
    "        value = slider_values[op[0]]\n",
    "        for feat in sol_order:\n",
    "            if feat == op[3]:\n",
    "                x[feat] = value\n",
    "        \n",
    "    for op in dropdown_options:\n",
    "        for i in range(len(op[1])):\n",
    "            #print(op[1][i],dropdown_values[op[0]],dropdown_values)\n",
    "            if op[1][i] == dropdown_values[op[0]]:\n",
    "                value = op[3][i]\n",
    "                print(value)\n",
    "                for feat in sol_order:\n",
    "                    print(feat,op[2])\n",
    "                    if feat == op[2]:\n",
    "                        x[feat] = value\n",
    "    \n",
    "    #check if prediction is corretct, if for some reason method not work return False\n",
    "    if len(list(x.keys())) != len(sol_order):\n",
    "     return False\n",
    "    \n",
    "    #order the vector\n",
    "    p=dict()\n",
    "    for feat in sol_order:\n",
    "        p[feat]=[x[feat]]\n",
    "        \n",
    "    X=pd.DataFrame.from_dict(p)\n",
    "    \n",
    "    return X\n",
    "    "
   ]
  },
  {
   "cell_type": "code",
   "execution_count": 3,
   "metadata": {
    "extensions": {
     "jupyter_dashboards": {
      "activeView": "grid_default",
      "views": {
       "grid_default": {
        "col": null,
        "height": 2,
        "hidden": true,
        "row": null,
        "width": 2
       }
      }
     }
    }
   },
   "outputs": [],
   "source": [
    "# class wictch contains all informations about model \n",
    "# DataModel object is subscribed to sub_days so we recycle upload strategy used for widgets\n",
    "class DataModel():\n",
    "        \n",
    "    def update(self):\n",
    "       self.solution=self.get_solution(value_options['days_v'])\n",
    "       print(self.solution)\n",
    "    \n",
    "    def get_model_id(self,day):\n",
    "       return self.day_model[str(day)] + '_iterativeimputer_randomsearch_10'\n",
    "\n",
    "    def get_dataset_id(self,day):\n",
    "       return self.day_data[str(day)] + '_all_patients_numerical_simplified_3plus7_features'\n",
    "    \n",
    "    def get_solution(self,day):\n",
    "       return self.tourney.classification_matches[(self.get_dataset_id(2)),self.get_model_id(2)].results.solution\n",
    "    \n",
    "    def load_classification_tourney(self): \n",
    "      filepath = 'classification_tourney_mortality_risk_covid19_all_patients_simplified.dill'\n",
    "      if not os.path.exists(filepath):   \n",
    "       !tar -xvzf mdl.tar.gz   \n",
    "      dill_file = open(filepath, 'rb')\n",
    "      classification_tourney = dill.load(dill_file)\n",
    "      dill_file.close()\n",
    "      return classification_tourney\n",
    "    \n",
    "    def predict(self):\n",
    "     if self.solution == None:\n",
    "        return\n",
    "     return self.solution.predict(self.X),self.solution.predict_proba(self.X)\n",
    "\n",
    "        \n",
    "        \n",
    "    def __init__(self):\n",
    "        \n",
    "     self.tourney = self.load_classification_tourney()\n",
    "     self.X = None\n",
    "     #model to use for each dataset. They are been chosen especially for recall and f2 score \n",
    "     self.day_model={'2':'XGBC','4':'XGBC','6':'LGBM','8':'LGBM','10':'XGBC','end':'XGBC'}\n",
    "     self.day_data={'2':'2days','4':'4days','6':'6days','8':'8days','end':'end'}\n",
    "     self.solution = self.get_solution(value_options['days_v'])   \n",
    "    \n",
    "###################################################################################################\n",
    "\n",
    "m = DataModel()\n",
    "subscribe(m,sub_days)\n"
   ]
  },
  {
   "cell_type": "markdown",
   "metadata": {
    "extensions": {
     "jupyter_dashboards": {
      "activeView": "grid_default",
      "views": {
       "grid_default": {
        "col": null,
        "height": 2,
        "hidden": true,
        "row": null,
        "width": 2
       }
      }
     }
    },
    "id": "sRbje5Zjv9Cu"
   },
   "source": [
    "# Cells"
   ]
  },
  {
   "cell_type": "code",
   "execution_count": 4,
   "metadata": {
    "colab": {
     "base_uri": "https://localhost:8080/",
     "height": 143,
     "referenced_widgets": [
      "96eb16508cfc4641aad9cb411ab60c0b",
      "5270bfa162654ac79293e6abada9e9b9",
      "73fab91724d8461fb8e7f22396ea51f2",
      "3a8298ca146d4989a798894dd0a92f1a",
      "19f7e7e6123044a9939dd9f097166c9e",
      "d897d8fbacd2485e9265d2f3d19698fc",
      "e0c8fab9d3314cafbc4c9dd1a0166b58",
      "84905904c7fb4c349a4fe0466d621aa8",
      "8df6e7fb51ea4636b94a5af036892e8c",
      "1bb3c3ee3c5140d9b336a8ded87efcd9",
      "c182143398cf413788ca31949ed1182f",
      "99c016a6cd9a490a90575799fc8b4ad4",
      "0e4e13adc7974c079e4fcfb97f7fab12"
     ]
    },
    "extensions": {
     "jupyter_dashboards": {
      "activeView": "grid_default",
      "views": {
       "grid_default": {
        "col": 0,
        "height": 3,
        "hidden": false,
        "row": 0,
        "width": 12
       }
      }
     }
    },
    "id": "VijtLPrFv8mZ",
    "outputId": "dfd413f3-5d53-4c0a-e39d-55f8965af03c"
   },
   "outputs": [
    {
     "data": {
      "application/vnd.jupyter.widget-view+json": {
       "model_id": "447ab4d6fc3e47839e56e9c48630d496",
       "version_major": 2,
       "version_minor": 0
      },
      "text/plain": [
       "VBox(children=(HTML(value='<br>'), VBox(children=(Label(value='giorni ospedalizzazione', layout=Layout(display…"
      ]
     },
     "metadata": {},
     "output_type": "display_data"
    }
   ],
   "source": [
    "class Days_toggle():\n",
    "    \n",
    " def post_day(self,change):\n",
    "   change_value('days_v',self.days.value,value_options,sub_days) \n",
    "  \n",
    " def __init__(self):\n",
    "  #self.val = values\n",
    "  #self.sub_days = sub_days\n",
    "  self.days = widgets.ToggleButtons(options=['2', '4', '6','8','10','end'],layout=widgets.Layout(width='95%'))\n",
    "  self.l_day = widgets.Label(value='giorni ospedalizzazione',layout=widgets.Layout(display=\"flex\", justify_content=\"center\"))\n",
    "  self.days.observe(self.post_day, names='value')\n",
    "  \n",
    "\n",
    " def compose(self):\n",
    "  return widgets.VBox([self.l_day,self.days])\n",
    "\n",
    "########################################################################################################################\n",
    "\n",
    "d = Days_toggle()\n",
    "#display(widgets.VBox([space(),d.compose()]))\n",
    "see(d)\n"
   ]
  },
  {
   "cell_type": "code",
   "execution_count": 5,
   "metadata": {
    "extensions": {
     "jupyter_dashboards": {
      "activeView": "grid_default",
      "views": {
       "grid_default": {
        "col": 0,
        "height": 7,
        "hidden": false,
        "row": 3,
        "width": 12
       }
      }
     }
    },
    "id": "8ymso-w2zv9p"
   },
   "outputs": [
    {
     "data": {
      "application/vnd.jupyter.widget-view+json": {
       "model_id": "ac1f5a391dfe4e9c9234b31f93e665d5",
       "version_major": 2,
       "version_minor": 0
      },
      "text/plain": [
       "VBox(children=(HTML(value='<br>'), VBox(children=(HTML(value='<br>'), HBox(children=(VBox(children=(VBox(child…"
      ]
     },
     "metadata": {},
     "output_type": "display_data"
    }
   ],
   "source": [
    "\n",
    "class Dashboard:\n",
    " def post_dashboard_values(self,change=None):\n",
    "  for w in self.sliders:\n",
    "    change_value(w['l_f'].value,w['widget'].value,slider_values,sub_dashboard)\n",
    "  for w in self.dropdowns:\n",
    "    change_value(w['l_f'].value,w['widget'].value,dropdown_values,sub_dashboard)\n",
    "  value_options['is_changed'] = True\n",
    "\n",
    " def null_variation(self,change):\n",
    "  for w in self.sliders:\n",
    "    w['widget'].value = w['widget'].min\n",
    "  self.post_dashboard_values() \n",
    "\n",
    " def __init__(self,slider_options,dropdown_options):\n",
    "  \n",
    "  #self.sub_dashboard=sub_dashboard\n",
    "  self.sliders = list()\n",
    "  self.dropdowns = list() \n",
    "  #self.slider_val = slider_values\n",
    "  #self.dropdown_val = dropdown_values\n",
    "\n",
    "  self.b_reset = widgets.Button(description='Azzera Valori')\n",
    "\n",
    "  for op in slider_options:\n",
    "   f = dict()\n",
    "   if op[4]=='f':\n",
    "    f['widget'] = widgets.FloatSlider(min=op[1],max=op[2])\n",
    "   else:\n",
    "    f['widget'] = widgets.IntSlider(min=op[1],max=op[2]) \n",
    "   f['l_f'] = widgets.Label(value=op[0])\n",
    "   #f['p_f'] = widgets.Label()\n",
    "   self.sliders.append(f)\n",
    "\n",
    "  for op in dropdown_options:\n",
    "   f = dict()\n",
    "   f['widget'] = widgets.Dropdown(options=op[1])\n",
    "   f['l_f']= widgets.Label(value=op[0])\n",
    "   #f['p_f'] = widgets.Label()\n",
    "   self.dropdowns.append(f)\n",
    "\n",
    "  for w in self.sliders + self.dropdowns:\n",
    "   w['widget'].observe(self.post_dashboard_values, names='value')\n",
    "\n",
    "  self.b_reset.on_click(self.null_variation)        \n",
    "\n",
    " def compose(self): \n",
    "  cells = list()\n",
    "  for s in self.sliders + self.dropdowns:\n",
    "   cells.append(widgets.VBox([s['l_f'],s['widget']]))\n",
    "        \n",
    "   columns = [widgets.VBox(cells[:3]),\n",
    "             widgets.VBox(cells[3:6]),\n",
    "             widgets.VBox(cells[6:8]), \n",
    "             widgets.VBox(cells[8:]),\n",
    "             widgets.VBox([self.b_reset],layout=widgets.Layout(display=\"flex\", justify_content=\"flex-end\"))]\n",
    "\n",
    "\n",
    "  return widgets.VBox([space(),\n",
    "                       widgets.HBox(columns,layout=widgets.Layout(display=\"flex\", justify_content=\"center\")),\n",
    "                       space()],layout=widgets.Layout(border='1px solid grey'))\n",
    "\n",
    "######################################################################################################## \n",
    "\n",
    "dash = Dashboard(slider_options,dropdown_options)\n",
    "cell_dashboard = dash.compose()\n",
    "see(dash)\n"
   ]
  },
  {
   "cell_type": "code",
   "execution_count": 6,
   "metadata": {
    "extensions": {
     "jupyter_dashboards": {
      "activeView": "grid_default",
      "views": {
       "grid_default": {
        "col": 0,
        "height": 2,
        "hidden": false,
        "row": 17,
        "width": 12
       }
      }
     }
    },
    "id": "5AQJp9N4ZO8Z"
   },
   "outputs": [
    {
     "data": {
      "application/vnd.jupyter.widget-view+json": {
       "model_id": "617e441c6d814625a174f9523d26cb1a",
       "version_major": 2,
       "version_minor": 0
      },
      "text/plain": [
       "VBox(children=(HTML(value='<br>'), Button(description='Invia', layout=Layout(height='30%', width='100%'), styl…"
      ]
     },
     "metadata": {},
     "output_type": "display_data"
    }
   ],
   "source": [
    "class SendButton():\n",
    "  \n",
    " def post(self,change):   \n",
    "  x=get_x(sol_order,slider_options,dropdown_options,slider_values,dropdown_values)\n",
    "  m.X = x\n",
    "  print(x)\n",
    "  p,prob = m.predict()\n",
    "  print(p)  \n",
    "  value_options['is_changed'] = False\n",
    "  change_value('pred',(p[0],prob),value_options,sub_pred)\n",
    "  \n",
    "\n",
    "\n",
    "    \n",
    " def __init__(self):\n",
    "   self.b_send = widgets.Button(description='Invia',layout=widgets.Layout(width='100%',height='30%')) \n",
    "   self.b_send.on_click(self.post) \n",
    " def compose(self):\n",
    "   return self.b_send\n",
    "\n",
    "############################################################################\n",
    "\n",
    "b = SendButton()\n",
    "see(b)"
   ]
  },
  {
   "cell_type": "code",
   "execution_count": 7,
   "metadata": {
    "extensions": {
     "jupyter_dashboards": {
      "activeView": "grid_default",
      "views": {
       "grid_default": {
        "col": null,
        "height": 2,
        "hidden": true,
        "row": null,
        "width": 2
       }
      }
     }
    }
   },
   "outputs": [
    {
     "data": {
      "image/png": "[encoded data removed]",
      "text/plain": [
       "<Figure size 432x288 with 1 Axes>"
      ]
     },
     "metadata": {
      "needs_background": "light"
     },
     "output_type": "display_data"
    }
   ],
   "source": [
    "# Testing matplotlib interactions with a simple plot\n",
    "fig = plt.figure()\n",
    "plt.plot(np.sin(np.linspace(0, 20, 100)));"
   ]
  },
  {
   "cell_type": "code",
   "execution_count": 8,
   "metadata": {
    "extensions": {
     "jupyter_dashboards": {
      "activeView": "grid_default",
      "views": {
       "grid_default": {
        "col": null,
        "height": 2,
        "hidden": true,
        "row": null,
        "width": 2
       }
      }
     }
    }
   },
   "outputs": [
    {
     "data": {
      "text/html": [
       "<style>\n",
       ".old_preview{\n",
       "    width:auto;\n",
       "    background-color:rgb(220,220,220);\n",
       "}\n",
       "</style>\n"
      ],
      "text/plain": [
       "<IPython.core.display.HTML object>"
      ]
     },
     "metadata": {},
     "output_type": "display_data"
    }
   ],
   "source": [
    "%%html\n",
    "<style>\n",
    ".old_preview{\n",
    "    width:auto;\n",
    "    background-color:rgb(220,220,220);\n",
    "}\n",
    "</style>"
   ]
  },
  {
   "cell_type": "code",
   "execution_count": 9,
   "metadata": {
    "extensions": {
     "jupyter_dashboards": {
      "activeView": "grid_default",
      "views": {
       "grid_default": {
        "col": 0,
        "height": 7,
        "hidden": false,
        "row": 10,
        "width": 5
       }
      }
     }
    },
    "id": "UYF8NxaHNWwO"
   },
   "outputs": [
    {
     "data": {
      "application/vnd.jupyter.widget-view+json": {
       "model_id": "d5dc1e0285394c7ab369a553a84e3253",
       "version_major": 2,
       "version_minor": 0
      },
      "text/plain": [
       "VBox(children=(HTML(value='<br>'), Box(children=(HTML(value='<br>'), VBox(children=(Label(value='Dati Paziente…"
      ]
     },
     "metadata": {},
     "output_type": "display_data"
    }
   ],
   "source": [
    "\n",
    "\n",
    "class Preview():\n",
    "\n",
    "  #method called update are called if a cell is a sub of another value\n",
    "  def update(self):\n",
    "        \n",
    "    ## change background color of the cell    \n",
    "  \n",
    "    if value_options['is_changed']==True:\n",
    "        self.comp.add_class('old_preview') \n",
    "    else:\n",
    "        for k in list(self.slider_values.keys()) + list(self.dropdown_values.keys()):\n",
    "         for l in self.labels:\n",
    "          if k == l['l_f']:\n",
    "           if k in self.slider_values.keys():\n",
    "            l['widget'].value = str(k) + ': ' + str(self.slider_values[k])\n",
    "           else:\n",
    "            l['widget'].value = str(k) + ': ' + str(self.dropdown_values[k])  \n",
    "  \n",
    "        \n",
    "        self.comp.remove_class('old_preview') \n",
    "\n",
    "  def __init__(self,slider_values,dropdown_values):\n",
    "\n",
    "    \n",
    "   self.slider_values = slider_values\n",
    "   self.dropdown_values=dropdown_values\n",
    "   self.labels=list()\n",
    "   self.comp=None\n",
    "   #self.update()\n",
    "   \n",
    "   \n",
    "   for k in self.slider_values.keys():\n",
    "    f = dict()\n",
    "    f['l_f'] = k\n",
    "    f['widget'] = widgets.Label(value=str(k) + ': ' + str(self.slider_values[k]))\n",
    "    self.labels.append(f)\n",
    "\n",
    "   for k in self.dropdown_values.keys():\n",
    "    f = dict()\n",
    "    f['l_f'] = k\n",
    "    f['widget'] = widgets.Label(value=str(k) + ': ' + str(self.dropdown_values[k]))\n",
    "    self.labels.append(f) \n",
    "   \n",
    "  def compose(self):\n",
    "   rows = [widgets.Label(value='Dati Paziente:')]\n",
    "   \n",
    "   for l in self.labels:\n",
    "     rows.append(l['widget'])\n",
    "     \n",
    "   self.comp =  widgets.Box([space(),\n",
    "                       widgets.VBox(rows,layout=widgets.Layout(display=\"flex\", justify_content=\"center\")),\n",
    "                       space()],\n",
    "                      layout=widgets.Layout(border='1px solid grey'))\n",
    "   return self.comp.add_class('old_preview')    \n",
    "  \n",
    "#############################################################################################        \n",
    "p = Preview(slider_values,dropdown_values)\n",
    "subscribe(p,sub_dashboard)\n",
    "subscribe(p,sub_pred)\n",
    "see(p)   \n"
   ]
  },
  {
   "cell_type": "code",
   "execution_count": 10,
   "metadata": {
    "extensions": {
     "jupyter_dashboards": {
      "activeView": "grid_default",
      "views": {
       "grid_default": {
        "col": 5,
        "height": 7,
        "hidden": false,
        "row": 10,
        "width": 7
       }
      }
     }
    },
    "id": "XB8PuyOcLAgz",
    "tags": []
   },
   "outputs": [
    {
     "data": {
      "application/vnd.jupyter.widget-view+json": {
       "model_id": "aa13785329ca46fb929c3a23bacc1f07",
       "version_major": 2,
       "version_minor": 0
      },
      "text/plain": [
       "VBox(children=(HTML(value='<br>'), Box(children=(Label(value=''),), layout=Layout(border='1px solid grey'), _d…"
      ]
     },
     "metadata": {},
     "output_type": "display_data"
    }
   ],
   "source": [
    "%matplotlib widget\n",
    "class Output():\n",
    "    #is changed == True -> dashboard values has changed \n",
    "    #is changed == False -> send button has been pressed and dashboard values has not changed\n",
    "  def update(self):\n",
    "    if value_options['is_changed']==False:\n",
    "     self.compose()   \n",
    "     if value_options['pred'][0] == 1:\n",
    "      self.output.value = self.res[True]\n",
    "     else:\n",
    "      self.output.value = self.res[False]\n",
    "     self.comp.remove_class('old_preview') \n",
    "     display(refresh_pie())   \n",
    "    else:\n",
    "     self.comp.add_class('old_preview')   \n",
    "   \n",
    "    \n",
    "  def __init__(self):\n",
    "    self.output = widgets.Label(value='')\n",
    "    self.res ={False: 'Alta probabilità di guarigione', \n",
    "               True: 'Bassa probabilità di guarigione'}\n",
    "    self.comp=None\n",
    "    \n",
    "  def compose(self):\n",
    "     self.comp= widgets.Box([self.output],layout=widgets.Layout(border='1px solid grey'))\n",
    "     return self.comp.add_class('old_preview')\n",
    "    ##TODO grafo a torta quando ci saranno i dati\n",
    "    \n",
    "#################################################################################   \n",
    "out = Output()\n",
    "subscribe(out,sub_pred)\n",
    "subscribe(out,sub_dashboard)\n",
    "see(out)"
   ]
  },
  {
   "cell_type": "code",
   "execution_count": 11,
   "metadata": {
    "extensions": {
     "jupyter_dashboards": {
      "activeView": "grid_default",
      "views": {
       "grid_default": {
        "col": null,
        "height": 2,
        "hidden": true,
        "row": null,
        "width": 2
       }
      }
     }
    }
   },
   "outputs": [],
   "source": [
    "%matplotlib inline\n",
    "#def refresh_pie():\n",
    "        \n",
    "class Pie():\n",
    "   def update(self):\n",
    "    refresh_pie()\n",
    "#btn.on_click(on_click_fn)\n",
    "def refresh_pie():\n",
    " fig = plt.figure()  \n",
    " plt.pie(value_options['pred'][1][0], explode=[0.1,0.1], labels=['vivo','morto'], autopct='%1.1f%%',shadow=True, startangle=90)      \n",
    "\n",
    "    \n",
    "#############################\n",
    "\n",
    "k = Pie()\n",
    "subscribe(k,sub_pred)\n",
    "#refresh_pie()"
   ]
  },
  {
   "cell_type": "code",
   "execution_count": 34,
   "metadata": {
    "extensions": {
     "jupyter_dashboards": {
      "activeView": "grid_default",
      "views": {
       "grid_default": {
        "col": null,
        "height": 2,
        "hidden": true,
        "row": null,
        "width": 2
       }
      }
     }
    }
   },
   "outputs": [
    {
     "data": {
      "application/vnd.jupyter.widget-view+json": {
       "model_id": "85c6fe4c803143a68e59cd24f857db18",
       "version_major": 2,
       "version_minor": 0
      },
      "text/plain": [
       "VBox(children=(Button(description='Button', style=ButtonStyle()), Output()))"
      ]
     },
     "metadata": {},
     "output_type": "display_data"
    },
    {
     "data": {
      "image/png": "[encoded data removed]",
      "text/plain": [
       "<Figure size 432x288 with 1 Axes>"
      ]
     },
     "metadata": {
      "needs_background": "light"
     },
     "output_type": "display_data"
    }
   ],
   "source": [
    "%matplotlib inline\n",
    "\n",
    "from matplotlib.pyplot import *\n",
    "\n",
    "button = widgets.Button(description=\"Button\")\n",
    "out = widgets.Output()\n",
    "\n",
    "def on_button_clicked(b):\n",
    "    with out:\n",
    "        clear_output(True)\n",
    "        plot([1,2],[2,1])\n",
    "        show()\n",
    "\n",
    "button.on_click(on_button_clicked)\n",
    "\n",
    "\n",
    "\n",
    "with out:\n",
    "    plot([1,2],[1,2])\n",
    "#    show()\n",
    "\n",
    "b= widgets.VBox([button,out])\n",
    "display(b)"
   ]
  },
  {
   "cell_type": "markdown",
   "metadata": {
    "extensions": {
     "jupyter_dashboards": {
      "activeView": "grid_default",
      "views": {
       "grid_default": {
        "col": null,
        "height": 2,
        "hidden": true,
        "row": null,
        "width": 2
       }
      }
     }
    },
    "id": "Tdec4-y3ySvk"
   },
   "source": [
    "# Nuova sezione"
   ]
  },
  {
   "cell_type": "code",
   "execution_count": 12,
   "metadata": {
    "extensions": {
     "jupyter_dashboards": {
      "activeView": "grid_default",
      "views": {
       "grid_default": {
        "col": null,
        "height": 2,
        "hidden": true,
        "row": null,
        "width": 2
       }
      }
     }
    }
   },
   "outputs": [],
   "source": [
    "#install https://github.com/matplotlib/ipympl lead instruction\n",
    "\n",
    "#jupyter labextension install jupyterlab-plotly"
   ]
  }
 ],
 "metadata": {
  "colab": {
   "collapsed_sections": [],
   "name": "cvd.ipynb",
   "provenance": []
  },
  "extensions": {
   "jupyter_dashboards": {
    "activeView": "grid_default",
    "version": 1,
    "views": {
     "grid_default": {
      "cellMargin": 2,
      "defaultCellHeight": 90,
      "maxColumns": 12,
      "name": "grid",
      "type": "grid"
     }
    }
   }
  },
  "kernelspec": {
   "display_name": "cvd",
   "language": "python",
   "name": "cvd"
  },
  "language_info": {
   "codemirror_mode": {
    "name": "ipython",
    "version": 3
   },
   "file_extension": ".py",
   "mimetype": "text/x-python",
   "name": "python",
   "nbconvert_exporter": "python",
   "pygments_lexer": "ipython3",
   "version": "3.8.12"
  },
  "widgets": {
   "application/vnd.jupyter.widget-state+json": {
    "0e4e13adc7974c079e4fcfb97f7fab12": {
     "model_module": "@jupyter-widgets/base",
     "model_module_version": "1.2.0",
     "model_name": "LayoutModel",
     "state": {
      "_model_module": "@jupyter-widgets/base",
      "_model_module_version": "1.2.0",
      "_model_name": "LayoutModel",
      "_view_count": null,
      "_view_module": "@jupyter-widgets/base",
      "_view_module_version": "1.2.0",
      "_view_name": "LayoutView",
      "align_content": null,
      "align_items": null,
      "align_self": null,
      "border": null,
      "bottom": null,
      "display": null,
      "flex": null,
      "flex_flow": null,
      "grid_area": null,
      "grid_auto_columns": null,
      "grid_auto_flow": null,
      "grid_auto_rows": null,
      "grid_column": null,
      "grid_gap": null,
      "grid_row": null,
      "grid_template_areas": null,
      "grid_template_columns": null,
      "grid_template_rows": null,
      "height": null,
      "justify_content": null,
      "justify_items": null,
      "left": null,
      "margin": null,
      "max_height": null,
      "max_width": null,
      "min_height": null,
      "min_width": null,
      "object_fit": null,
      "object_position": null,
      "order": null,
      "overflow": null,
      "overflow_x": null,
      "overflow_y": null,
      "padding": null,
      "right": null,
      "top": null,
      "visibility": null,
      "width": "95%"
     }
    },
    "19f7e7e6123044a9939dd9f097166c9e": {
     "model_module": "@jupyter-widgets/controls",
     "model_module_version": "1.5.0",
     "model_name": "DescriptionStyleModel",
     "state": {
      "_model_module": "@jupyter-widgets/controls",
      "_model_module_version": "1.5.0",
      "_model_name": "DescriptionStyleModel",
      "_view_count": null,
      "_view_module": "@jupyter-widgets/base",
      "_view_module_version": "1.2.0",
      "_view_name": "StyleView",
      "description_width": ""
     }
    },
    "1bb3c3ee3c5140d9b336a8ded87efcd9": {
     "model_module": "@jupyter-widgets/controls",
     "model_module_version": "1.5.0",
     "model_name": "DescriptionStyleModel",
     "state": {
      "_model_module": "@jupyter-widgets/controls",
      "_model_module_version": "1.5.0",
      "_model_name": "DescriptionStyleModel",
      "_view_count": null,
      "_view_module": "@jupyter-widgets/base",
      "_view_module_version": "1.2.0",
      "_view_name": "StyleView",
      "description_width": ""
     }
    },
    "3a8298ca146d4989a798894dd0a92f1a": {
     "model_module": "@jupyter-widgets/controls",
     "model_module_version": "1.5.0",
     "model_name": "VBoxModel",
     "state": {
      "_dom_classes": [],
      "_model_module": "@jupyter-widgets/controls",
      "_model_module_version": "1.5.0",
      "_model_name": "VBoxModel",
      "_view_count": null,
      "_view_module": "@jupyter-widgets/controls",
      "_view_module_version": "1.5.0",
      "_view_name": "VBoxView",
      "box_style": "",
      "children": [
       "IPY_MODEL_84905904c7fb4c349a4fe0466d621aa8",
       "IPY_MODEL_8df6e7fb51ea4636b94a5af036892e8c"
      ],
      "layout": "IPY_MODEL_e0c8fab9d3314cafbc4c9dd1a0166b58"
     }
    },
    "5270bfa162654ac79293e6abada9e9b9": {
     "model_module": "@jupyter-widgets/base",
     "model_module_version": "1.2.0",
     "model_name": "LayoutModel",
     "state": {
      "_model_module": "@jupyter-widgets/base",
      "_model_module_version": "1.2.0",
      "_model_name": "LayoutModel",
      "_view_count": null,
      "_view_module": "@jupyter-widgets/base",
      "_view_module_version": "1.2.0",
      "_view_name": "LayoutView",
      "align_content": null,
      "align_items": null,
      "align_self": null,
      "border": null,
      "bottom": null,
      "display": null,
      "flex": null,
      "flex_flow": null,
      "grid_area": null,
      "grid_auto_columns": null,
      "grid_auto_flow": null,
      "grid_auto_rows": null,
      "grid_column": null,
      "grid_gap": null,
      "grid_row": null,
      "grid_template_areas": null,
      "grid_template_columns": null,
      "grid_template_rows": null,
      "height": null,
      "justify_content": null,
      "justify_items": null,
      "left": null,
      "margin": null,
      "max_height": null,
      "max_width": null,
      "min_height": null,
      "min_width": null,
      "object_fit": null,
      "object_position": null,
      "order": null,
      "overflow": null,
      "overflow_x": null,
      "overflow_y": null,
      "padding": null,
      "right": null,
      "top": null,
      "visibility": null,
      "width": null
     }
    },
    "73fab91724d8461fb8e7f22396ea51f2": {
     "model_module": "@jupyter-widgets/controls",
     "model_module_version": "1.5.0",
     "model_name": "HTMLModel",
     "state": {
      "_dom_classes": [],
      "_model_module": "@jupyter-widgets/controls",
      "_model_module_version": "1.5.0",
      "_model_name": "HTMLModel",
      "_view_count": null,
      "_view_module": "@jupyter-widgets/controls",
      "_view_module_version": "1.5.0",
      "_view_name": "HTMLView",
      "description": "",
      "description_tooltip": null,
      "layout": "IPY_MODEL_d897d8fbacd2485e9265d2f3d19698fc",
      "placeholder": "​",
      "style": "IPY_MODEL_19f7e7e6123044a9939dd9f097166c9e",
      "value": "<br>"
     }
    },
    "84905904c7fb4c349a4fe0466d621aa8": {
     "model_module": "@jupyter-widgets/controls",
     "model_module_version": "1.5.0",
     "model_name": "LabelModel",
     "state": {
      "_dom_classes": [],
      "_model_module": "@jupyter-widgets/controls",
      "_model_module_version": "1.5.0",
      "_model_name": "LabelModel",
      "_view_count": null,
      "_view_module": "@jupyter-widgets/controls",
      "_view_module_version": "1.5.0",
      "_view_name": "LabelView",
      "description": "",
      "description_tooltip": null,
      "layout": "IPY_MODEL_c182143398cf413788ca31949ed1182f",
      "placeholder": "​",
      "style": "IPY_MODEL_1bb3c3ee3c5140d9b336a8ded87efcd9",
      "value": "giorni ospedalizzazione"
     }
    },
    "8df6e7fb51ea4636b94a5af036892e8c": {
     "model_module": "@jupyter-widgets/controls",
     "model_module_version": "1.5.0",
     "model_name": "ToggleButtonsModel",
     "state": {
      "_dom_classes": [],
      "_model_module": "@jupyter-widgets/controls",
      "_model_module_version": "1.5.0",
      "_model_name": "ToggleButtonsModel",
      "_options_labels": [
       "2",
       "4",
       "6",
       "8",
       "10",
       "12"
      ],
      "_view_count": null,
      "_view_module": "@jupyter-widgets/controls",
      "_view_module_version": "1.5.0",
      "_view_name": "ToggleButtonsView",
      "button_style": "",
      "description": "",
      "description_tooltip": null,
      "disabled": false,
      "icons": [],
      "index": 0,
      "layout": "IPY_MODEL_0e4e13adc7974c079e4fcfb97f7fab12",
      "style": "IPY_MODEL_99c016a6cd9a490a90575799fc8b4ad4",
      "tooltips": []
     }
    },
    "96eb16508cfc4641aad9cb411ab60c0b": {
     "model_module": "@jupyter-widgets/controls",
     "model_module_version": "1.5.0",
     "model_name": "VBoxModel",
     "state": {
      "_dom_classes": [],
      "_model_module": "@jupyter-widgets/controls",
      "_model_module_version": "1.5.0",
      "_model_name": "VBoxModel",
      "_view_count": null,
      "_view_module": "@jupyter-widgets/controls",
      "_view_module_version": "1.5.0",
      "_view_name": "VBoxView",
      "box_style": "",
      "children": [
       "IPY_MODEL_73fab91724d8461fb8e7f22396ea51f2",
       "IPY_MODEL_3a8298ca146d4989a798894dd0a92f1a"
      ],
      "layout": "IPY_MODEL_5270bfa162654ac79293e6abada9e9b9"
     }
    },
    "99c016a6cd9a490a90575799fc8b4ad4": {
     "model_module": "@jupyter-widgets/controls",
     "model_module_version": "1.5.0",
     "model_name": "ToggleButtonsStyleModel",
     "state": {
      "_model_module": "@jupyter-widgets/controls",
      "_model_module_version": "1.5.0",
      "_model_name": "ToggleButtonsStyleModel",
      "_view_count": null,
      "_view_module": "@jupyter-widgets/base",
      "_view_module_version": "1.2.0",
      "_view_name": "StyleView",
      "button_width": "",
      "description_width": "",
      "font_weight": ""
     }
    },
    "c182143398cf413788ca31949ed1182f": {
     "model_module": "@jupyter-widgets/base",
     "model_module_version": "1.2.0",
     "model_name": "LayoutModel",
     "state": {
      "_model_module": "@jupyter-widgets/base",
      "_model_module_version": "1.2.0",
      "_model_name": "LayoutModel",
      "_view_count": null,
      "_view_module": "@jupyter-widgets/base",
      "_view_module_version": "1.2.0",
      "_view_name": "LayoutView",
      "align_content": null,
      "align_items": null,
      "align_self": null,
      "border": null,
      "bottom": null,
      "display": "flex",
      "flex": null,
      "flex_flow": null,
      "grid_area": null,
      "grid_auto_columns": null,
      "grid_auto_flow": null,
      "grid_auto_rows": null,
      "grid_column": null,
      "grid_gap": null,
      "grid_row": null,
      "grid_template_areas": null,
      "grid_template_columns": null,
      "grid_template_rows": null,
      "height": null,
      "justify_content": "center",
      "justify_items": null,
      "left": null,
      "margin": null,
      "max_height": null,
      "max_width": null,
      "min_height": null,
      "min_width": null,
      "object_fit": null,
      "object_position": null,
      "order": null,
      "overflow": null,
      "overflow_x": null,
      "overflow_y": null,
      "padding": null,
      "right": null,
      "top": null,
      "visibility": null,
      "width": null
     }
    },
    "d897d8fbacd2485e9265d2f3d19698fc": {
     "model_module": "@jupyter-widgets/base",
     "model_module_version": "1.2.0",
     "model_name": "LayoutModel",
     "state": {
      "_model_module": "@jupyter-widgets/base",
      "_model_module_version": "1.2.0",
      "_model_name": "LayoutModel",
      "_view_count": null,
      "_view_module": "@jupyter-widgets/base",
      "_view_module_version": "1.2.0",
      "_view_name": "LayoutView",
      "align_content": null,
      "align_items": null,
      "align_self": null,
      "border": null,
      "bottom": null,
      "display": null,
      "flex": null,
      "flex_flow": null,
      "grid_area": null,
      "grid_auto_columns": null,
      "grid_auto_flow": null,
      "grid_auto_rows": null,
      "grid_column": null,
      "grid_gap": null,
      "grid_row": null,
      "grid_template_areas": null,
      "grid_template_columns": null,
      "grid_template_rows": null,
      "height": null,
      "justify_content": null,
      "justify_items": null,
      "left": null,
      "margin": null,
      "max_height": null,
      "max_width": null,
      "min_height": null,
      "min_width": null,
      "object_fit": null,
      "object_position": null,
      "order": null,
      "overflow": null,
      "overflow_x": null,
      "overflow_y": null,
      "padding": null,
      "right": null,
      "top": null,
      "visibility": null,
      "width": null
     }
    },
    "e0c8fab9d3314cafbc4c9dd1a0166b58": {
     "model_module": "@jupyter-widgets/base",
     "model_module_version": "1.2.0",
     "model_name": "LayoutModel",
     "state": {
      "_model_module": "@jupyter-widgets/base",
      "_model_module_version": "1.2.0",
      "_model_name": "LayoutModel",
      "_view_count": null,
      "_view_module": "@jupyter-widgets/base",
      "_view_module_version": "1.2.0",
      "_view_name": "LayoutView",
      "align_content": null,
      "align_items": null,
      "align_self": null,
      "border": null,
      "bottom": null,
      "display": null,
      "flex": null,
      "flex_flow": null,
      "grid_area": null,
      "grid_auto_columns": null,
      "grid_auto_flow": null,
      "grid_auto_rows": null,
      "grid_column": null,
      "grid_gap": null,
      "grid_row": null,
      "grid_template_areas": null,
      "grid_template_columns": null,
      "grid_template_rows": null,
      "height": null,
      "justify_content": null,
      "justify_items": null,
      "left": null,
      "margin": null,
      "max_height": null,
      "max_width": null,
      "min_height": null,
      "min_width": null,
      "object_fit": null,
      "object_position": null,
      "order": null,
      "overflow": null,
      "overflow_x": null,
      "overflow_y": null,
      "padding": null,
      "right": null,
      "top": null,
      "visibility": null,
      "width": null
     }
    }
   }
  }
 },
 "nbformat": 4,
 "nbformat_minor": 4
}

{
 "cells": [
  {
   "cell_type": "markdown",
   "metadata": {
    "id": "5uX-7GimtO04"
   },
   "source": [
    "# Broker"
   ]
  },
  {
   "cell_type": "code",
   "execution_count": 1,
   "metadata": {
    "id": "t-ThcuWCtNHQ"
   },
   "outputs": [],
   "source": [
    "#options for single values\n",
    "value_options= [\n",
    "                ('days_v',int()),\n",
    "]\n",
    "\n",
    "#dictionary where we find single values which we need to publish \n",
    "values = dict()\n",
    "for opt in value_options:\n",
    "  values[opt[0]] = opt[1]\n",
    "\n",
    "#OPTIONS FOR SLIDER AND DROPDOWNS\n",
    "slider_options = [\n",
    "          ('età',18,100,'i'),\n",
    "          ('PCR',0,500,'f'),\n",
    "          ('LDH',100,1000,'f'),\n",
    "          ('WBC',0,400,'f'),\n",
    "          ('D-Dimero',100,30000,'f'),\n",
    "          ('linfociti (%)',1,12,'f'),\n",
    "          ('neutrofili/linfociti',0,150,'f'),\n",
    "          #('f8',1,12)\n",
    "          ]\n",
    "\n",
    "dropdown_options = [\n",
    "          ('risultato tampone',['positivo','debolmente positivo','negativo','non valido']),                   \n",
    "          ['sesso',['Maschio','Femmina']] \n",
    "         ]\n",
    "\n",
    "#values for sliders and dropdowns \n",
    "# slider_values[name_of_slider] = value\n",
    "#dropdown_values[name_of_dropdown] = value\n",
    "slider_values = dict()\n",
    "dropdown_values = dict()\n",
    "for opt in slider_options:\n",
    " # print(opt)\n",
    "  slider_values[str(opt[0])] = float()\n",
    "for opt in dropdown_options:\n",
    "  dropdown_values[str(opt[0])] = str()\n",
    "\n",
    "# We define a list of object wich is called when there's a change in a group of variables\n",
    "sub_dashboard=list()\n",
    "sub_days=list()\n",
    "\n",
    "cells=dict()"
   ]
  },
  {
   "cell_type": "markdown",
   "metadata": {
    "id": "Ot64YUOivzj9"
   },
   "source": [
    "# Import and utils"
   ]
  },
  {
   "cell_type": "code",
   "execution_count": 2,
   "metadata": {
    "id": "lLjefWfOv2Kj"
   },
   "outputs": [],
   "source": [
    "import ipywidgets as widgets\n",
    "from IPython.display import display,clear_output\n",
    "\n",
    "def space():\n",
    "  return widgets.HTML('<br>')\n",
    "\n",
    "def line():\n",
    "  return widgets.HTML('<hr>')\n",
    "\n",
    "def see_values():\n",
    "  print(slider_values)\n",
    "  print(dropdown_values)\n",
    "  print(values)\n",
    "  print(sub_dashboard)\n",
    "  print(sub_days)\n",
    "\n",
    "def change_value(name_variable,value,dict_to_change,subscribers):\n",
    "  dict_to_change[name_variable] = value\n",
    "  #we define mathod update wich update all the variables in the subscriber\n",
    "  #post method on the contrary change value in the broker\n",
    "  for sub in subscribers:\n",
    "    sub.update()   \n",
    "\n",
    "def subscribe(obj,sub):\n",
    "  sub.append(obj)  \n",
    "\n",
    "# all cells must have compose method to visualize\n",
    "def see(obj,compose=True):\n",
    "  if compose:\n",
    "   display(widgets.VBox([space(),obj.compose()]))   \n",
    "  else:\n",
    "   display(widgets.VBox([space(),obj]))     "
   ]
  },
  {
   "cell_type": "markdown",
   "metadata": {
    "id": "sRbje5Zjv9Cu"
   },
   "source": [
    "# Cells"
   ]
  },
  {
   "cell_type": "code",
   "execution_count": 3,
   "metadata": {
    "colab": {
     "base_uri": "https://localhost:8080/",
     "height": 143,
     "referenced_widgets": [
      "96eb16508cfc4641aad9cb411ab60c0b",
      "5270bfa162654ac79293e6abada9e9b9",
      "73fab91724d8461fb8e7f22396ea51f2",
      "3a8298ca146d4989a798894dd0a92f1a",
      "19f7e7e6123044a9939dd9f097166c9e",
      "d897d8fbacd2485e9265d2f3d19698fc",
      "e0c8fab9d3314cafbc4c9dd1a0166b58",
      "84905904c7fb4c349a4fe0466d621aa8",
      "8df6e7fb51ea4636b94a5af036892e8c",
      "1bb3c3ee3c5140d9b336a8ded87efcd9",
      "c182143398cf413788ca31949ed1182f",
      "99c016a6cd9a490a90575799fc8b4ad4",
      "0e4e13adc7974c079e4fcfb97f7fab12"
     ]
    },
    "id": "VijtLPrFv8mZ",
    "outputId": "dfd413f3-5d53-4c0a-e39d-55f8965af03c"
   },
   "outputs": [
    {
     "data": {
      "application/vnd.jupyter.widget-view+json": {
       "model_id": "db66326379ba42389835a6fb629c667a",
       "version_major": 2,
       "version_minor": 0
      },
      "text/plain": [
       "VBox(children=(HTML(value='<br>'), VBox(children=(Label(value='giorni ospedalizzazione', layout=Layout(display…"
      ]
     },
     "metadata": {},
     "output_type": "display_data"
    }
   ],
   "source": [
    "class Days_toggle():\n",
    " def post_day(self,change):\n",
    "   change_value('days_v',self.days.value,self.val,self.sub_days)\n",
    "   \n",
    "  \n",
    " def __init__(self,values,sub_days):\n",
    "  self.val = values\n",
    "  self.sub_days = sub_days\n",
    "  self.days = widgets.ToggleButtons(options=['2', '4', '6','8','10','end'],layout=widgets.Layout(width='95%'))\n",
    "  self.l_day = widgets.Label(value='giorni ospedalizzazione',layout=widgets.Layout(display=\"flex\", justify_content=\"center\"))\n",
    "  self.days.observe(self.post_day, names='value')\n",
    "  \n",
    "\n",
    " def compose(self):\n",
    "  return widgets.VBox([self.l_day,self.days])\n",
    "\n",
    "########################################################################################################################\n",
    "\n",
    "d = Days_toggle(values,sub_days)\n",
    "#display(widgets.VBox([space(),d.compose()]))\n",
    "see(d)\n"
   ]
  },
  {
   "cell_type": "code",
   "execution_count": 11,
   "metadata": {
    "id": "8ymso-w2zv9p"
   },
   "outputs": [
    {
     "data": {
      "application/vnd.jupyter.widget-view+json": {
       "model_id": "8af55e55705a4b68907a69b4265462c6",
       "version_major": 2,
       "version_minor": 0
      },
      "text/plain": [
       "VBox(children=(HTML(value='<br>'), VBox(children=(HTML(value='<br>'), HBox(children=(VBox(children=(VBox(child…"
      ]
     },
     "metadata": {},
     "output_type": "display_data"
    }
   ],
   "source": [
    "\n",
    "class Dashboard:\n",
    " def post_dashboard_values(self,change=None):\n",
    "  for w in self.sliders:\n",
    "    change_value(w['l_f'].value,w['widget'].value,self.slider_val,self.sub_dashboard)\n",
    "  for w in self.dropdowns:\n",
    "    change_value(w['l_f'].value,w['widget'].value,self.dropdown_val,self.sub_dashboard)\n",
    "\n",
    " def null_variation(self,change):\n",
    "  for w in self.sliders:\n",
    "    w['widget'].value = w['widget'].min\n",
    "  self.post_dashboard_values() \n",
    "\n",
    " def __init__(self,slider_options,dropdown_options,slider_values,dropdown_values,sub_dashboard):\n",
    "  \n",
    "  self.sub_dashboard=sub_dashboard\n",
    "  self.sliders = list()\n",
    "  self.dropdowns = list() \n",
    "  self.slider_val = slider_values\n",
    "  self.dropdown_val = dropdown_values\n",
    "\n",
    "  self.b_reset = widgets.Button(description='Azzera Valori')\n",
    "\n",
    "  for op in slider_options:\n",
    "   f = dict()\n",
    "   f['widget'] = widgets.FloatSlider(min=op[1],max=op[2])\n",
    "   f['l_f'] = widgets.Label(value=op[0])\n",
    "   #f['p_f'] = widgets.Label()\n",
    "   self.sliders.append(f)\n",
    "\n",
    "  for op in dropdown_options:\n",
    "   f = dict()\n",
    "   f['widget'] = widgets.Dropdown(options=op[1])\n",
    "   f['l_f']= widgets.Label(value=op[0])\n",
    "   #f['p_f'] = widgets.Label()\n",
    "   self.dropdowns.append(f)\n",
    "\n",
    "  for w in self.sliders + self.dropdowns:\n",
    "   w['widget'].observe(self.post_dashboard_values, names='value')\n",
    "\n",
    "  self.b_reset.on_click(self.null_variation)        \n",
    "\n",
    " def compose(self): \n",
    "  cells = list()\n",
    "  for s in self.sliders + self.dropdowns:\n",
    "   cells.append(widgets.VBox([s['l_f'],s['widget']]))\n",
    "        \n",
    "   columns = [widgets.VBox(cells[:3]),\n",
    "             widgets.VBox(cells[3:6]),\n",
    "             widgets.VBox(cells[6:]),\n",
    "             widgets.VBox([self.b_reset],layout=widgets.Layout(display=\"flex\", justify_content=\"flex-end\"))]\n",
    "\n",
    "\n",
    "  return widgets.VBox([space(),\n",
    "                       widgets.HBox(columns,layout=widgets.Layout(display=\"flex\", justify_content=\"center\")),\n",
    "                       space()],layout=widgets.Layout(border='1px solid grey'))\n",
    "\n",
    "######################################################################################################## \n",
    "\n",
    "dash = Dashboard(slider_options,dropdown_options,slider_values,dropdown_values,sub_dashboard)\n",
    "cell_dashboard = dash.compose()\n",
    "see(dash)\n"
   ]
  },
  {
   "cell_type": "code",
   "execution_count": 5,
   "metadata": {
    "id": "5AQJp9N4ZO8Z"
   },
   "outputs": [
    {
     "data": {
      "application/vnd.jupyter.widget-view+json": {
       "model_id": "f40fcbb6d4584ac4966f202f5bd3686d",
       "version_major": 2,
       "version_minor": 0
      },
      "text/plain": [
       "VBox(children=(HTML(value='<br>'), Button(description='Invia', layout=Layout(height='30%', width='100%'), styl…"
      ]
     },
     "metadata": {},
     "output_type": "display_data"
    }
   ],
   "source": [
    "class SendButton():\n",
    "  \n",
    " def post(self):\n",
    "  return\n",
    "\n",
    " def __init__(self):\n",
    "   self.b_send = widgets.Button(description='Invia',layout=widgets.Layout(width='100%',height='30%')) \n",
    "   self.b_send.on_click(self.post()) \n",
    "   \n",
    " def compose(self):\n",
    "   return self.b_send\n",
    "\n",
    "############################################################################\n",
    "\n",
    "b = SendButton()\n",
    "see(b)"
   ]
  },
  {
   "cell_type": "code",
   "execution_count": 6,
   "metadata": {
    "id": "UYF8NxaHNWwO"
   },
   "outputs": [
    {
     "data": {
      "application/vnd.jupyter.widget-view+json": {
       "model_id": "2892998ab067460781100d0e9615c97d",
       "version_major": 2,
       "version_minor": 0
      },
      "text/plain": [
       "VBox(children=(HTML(value='<br>'), Box(children=(HTML(value='<br>'), VBox(children=(Label(value='Dati Paziente…"
      ]
     },
     "metadata": {},
     "output_type": "display_data"
    }
   ],
   "source": [
    "class Preview():\n",
    "\n",
    "  #method called update are called if a cell is a sub of another value\n",
    "  def update(self):\n",
    "   for k in list(self.slider_values.keys()) + list(self.dropdown_values.keys()):\n",
    "     for l in self.labels:\n",
    "       if k == l['l_f']:\n",
    "         if k in self.slider_values.keys():\n",
    "          l['widget'].value = str(k) + ': ' + str(self.slider_values[k])\n",
    "         else:\n",
    "          l['widget'].value = str(k) + ': ' + str(self.dropdown_values[k])  \n",
    "\n",
    "\n",
    "  def __init__(self,slider_values,dropdown_values):\n",
    "\n",
    "   self.slider_values = slider_values\n",
    "   self.dropdown_values=dropdown_values\n",
    "   self.labels=list()\n",
    "   self.update()\n",
    "   \n",
    "   for k in self.slider_values.keys():\n",
    "    f = dict()\n",
    "    f['l_f'] = k\n",
    "    f['widget'] = widgets.Label(value=str(k) + ': ' + str(self.slider_values[k]))\n",
    "    self.labels.append(f)\n",
    "\n",
    "   for k in self.dropdown_values.keys():\n",
    "    f = dict()\n",
    "    f['l_f'] = k\n",
    "    f['widget'] = widgets.Label(value=str(k) + ': ' + str(self.dropdown_values[k]))\n",
    "    self.labels.append(f) \n",
    "   \n",
    "  def compose(self):\n",
    "   rows = [widgets.Label(value='Dati Paziente:')]\n",
    "   \n",
    "   for l in self.labels:\n",
    "     rows.append(l['widget'])\n",
    "     \n",
    "   return widgets.Box([space(),\n",
    "                       widgets.VBox(rows,layout=widgets.Layout(display=\"flex\", justify_content=\"center\")),\n",
    "                       space()],\n",
    "                      layout=widgets.Layout(border='1px solid grey'))\n",
    "       \n",
    "  \n",
    "#############################################################################################        \n",
    "p = Preview(slider_values,dropdown_values)\n",
    "subscribe(p,sub_dashboard)\n",
    "see(p)   \n"
   ]
  },
  {
   "cell_type": "code",
   "execution_count": 7,
   "metadata": {
    "id": "XB8PuyOcLAgz"
   },
   "outputs": [],
   "source": [
    "class Output():\n",
    "  def __init__(self):\n",
    "    self.res ={True: widgets.Label(value='Alta probabilità di guarigione'), \n",
    "               False: widgets.Label(value='Bassa probabilità di guarigione')}\n",
    "    \n",
    "    ##TODO grafo a torta quando ci saranno i dati"
   ]
  },
  {
   "cell_type": "code",
   "execution_count": 8,
   "metadata": {},
   "outputs": [],
   "source": [
    "#!tar -xvzf mdl.tar.gz"
   ]
  },
  {
   "cell_type": "markdown",
   "metadata": {
    "id": "Tdec4-y3ySvk"
   },
   "source": [
    "# Nuova sezione"
   ]
  },
  {
   "cell_type": "code",
   "execution_count": 9,
   "metadata": {},
   "outputs": [],
   "source": [
    "import dill\n",
    "from sklearn.pipeline import Pipeline\n",
    "def load_classification_tourney():\n",
    " #!tar -xvzf mdl.tar.gz   \n",
    " filepath = 'classification_tourney_mortality_risk_covid19_all_patients_simplified.dill'\n",
    " dill_file = open(filepath, 'rb')\n",
    " classification_tourney = dill.load(dill_file)\n",
    " dill_file.close()\n",
    " return classification_tourney\n",
    "\n",
    "\n",
    "\n",
    "#model to use for each dataset. They are been chosen especially for recall and f2 score \n",
    "day_model={'2':'XGBC','4':'XGBC','6':'LGBM','8':'LGBM','10':'XGBC','end':'XGBC'}\n",
    "day_data={'2':'2days','4':'4days','6':'6days','8':'8days','end':'end'}\n",
    "\n",
    "def get_model_id(day,day_model):\n",
    "    return day_model[str(day)] + '_iterativeimputer_randomsearch_10'\n",
    "\n",
    "def get_dataset_id(day,day_data):\n",
    "    return day_data[str(day)] + '_all_patients_numerical_simplified_3plus7_features'\n",
    "\n",
    "\n",
    "def get_solution(tourney,day,day_data,day_model):\n",
    "    return tourney.classification_matches[(get_dataset_id(2,day_data)),get_model_id(2,day_model)].results.solution\n",
    " \n",
    "        \n",
    "tourney = load_classification_tourney()\n"
   ]
  },
  {
   "cell_type": "code",
   "execution_count": 10,
   "metadata": {},
   "outputs": [
    {
     "ename": "IndentationError",
     "evalue": "unexpected indent (1192507962.py, line 5)",
     "output_type": "error",
     "traceback": [
      "\u001b[0;36m  File \u001b[0;32m\"/tmp/ipykernel_194/1192507962.py\"\u001b[0;36m, line \u001b[0;32m5\u001b[0m\n\u001b[0;31m    solution.fit(X=self.dataset.train.x, y=self.dataset.train.y)\u001b[0m\n\u001b[0m    ^\u001b[0m\n\u001b[0;31mIndentationError\u001b[0m\u001b[0;31m:\u001b[0m unexpected indent\n"
     ]
    }
   ],
   "source": [
    " solution: Pipeline = self.classifier_solution.create_pipeline_randomcv(\n",
    "            ds=self.dataset.train.x\n",
    "        )\n",
    "        # fit the custom solution\n",
    "        solution.fit(X=self.dataset.train.x, y=self.dataset.train.y)\n",
    "\n",
    "        # Get the prediction for the test set\n",
    "        y_test_predicted = solution.predict(self.dataset.test.x)\n"
   ]
  }
 ],
 "metadata": {
  "colab": {
   "collapsed_sections": [],
   "name": "cvd.ipynb",
   "provenance": []
  },
  "kernelspec": {
   "display_name": "Python 3 (ipykernel)",
   "language": "python",
   "name": "python3"
  },
  "language_info": {
   "codemirror_mode": {
    "name": "ipython",
    "version": 3
   },
   "file_extension": ".py",
   "mimetype": "text/x-python",
   "name": "python",
   "nbconvert_exporter": "python",
   "pygments_lexer": "ipython3",
   "version": "3.8.12"
  },
  "widgets": {
   "application/vnd.jupyter.widget-state+json": {
    "0e4e13adc7974c079e4fcfb97f7fab12": {
     "model_module": "@jupyter-widgets/base",
     "model_module_version": "1.2.0",
     "model_name": "LayoutModel",
     "state": {
      "_model_module": "@jupyter-widgets/base",
      "_model_module_version": "1.2.0",
      "_model_name": "LayoutModel",
      "_view_count": null,
      "_view_module": "@jupyter-widgets/base",
      "_view_module_version": "1.2.0",
      "_view_name": "LayoutView",
      "align_content": null,
      "align_items": null,
      "align_self": null,
      "border": null,
      "bottom": null,
      "display": null,
      "flex": null,
      "flex_flow": null,
      "grid_area": null,
      "grid_auto_columns": null,
      "grid_auto_flow": null,
      "grid_auto_rows": null,
      "grid_column": null,
      "grid_gap": null,
      "grid_row": null,
      "grid_template_areas": null,
      "grid_template_columns": null,
      "grid_template_rows": null,
      "height": null,
      "justify_content": null,
      "justify_items": null,
      "left": null,
      "margin": null,
      "max_height": null,
      "max_width": null,
      "min_height": null,
      "min_width": null,
      "object_fit": null,
      "object_position": null,
      "order": null,
      "overflow": null,
      "overflow_x": null,
      "overflow_y": null,
      "padding": null,
      "right": null,
      "top": null,
      "visibility": null,
      "width": "95%"
     }
    },
    "19f7e7e6123044a9939dd9f097166c9e": {
     "model_module": "@jupyter-widgets/controls",
     "model_module_version": "1.5.0",
     "model_name": "DescriptionStyleModel",
     "state": {
      "_model_module": "@jupyter-widgets/controls",
      "_model_module_version": "1.5.0",
      "_model_name": "DescriptionStyleModel",
      "_view_count": null,
      "_view_module": "@jupyter-widgets/base",
      "_view_module_version": "1.2.0",
      "_view_name": "StyleView",
      "description_width": ""
     }
    },
    "1bb3c3ee3c5140d9b336a8ded87efcd9": {
     "model_module": "@jupyter-widgets/controls",
     "model_module_version": "1.5.0",
     "model_name": "DescriptionStyleModel",
     "state": {
      "_model_module": "@jupyter-widgets/controls",
      "_model_module_version": "1.5.0",
      "_model_name": "DescriptionStyleModel",
      "_view_count": null,
      "_view_module": "@jupyter-widgets/base",
      "_view_module_version": "1.2.0",
      "_view_name": "StyleView",
      "description_width": ""
     }
    },
    "3a8298ca146d4989a798894dd0a92f1a": {
     "model_module": "@jupyter-widgets/controls",
     "model_module_version": "1.5.0",
     "model_name": "VBoxModel",
     "state": {
      "_dom_classes": [],
      "_model_module": "@jupyter-widgets/controls",
      "_model_module_version": "1.5.0",
      "_model_name": "VBoxModel",
      "_view_count": null,
      "_view_module": "@jupyter-widgets/controls",
      "_view_module_version": "1.5.0",
      "_view_name": "VBoxView",
      "box_style": "",
      "children": [
       "IPY_MODEL_84905904c7fb4c349a4fe0466d621aa8",
       "IPY_MODEL_8df6e7fb51ea4636b94a5af036892e8c"
      ],
      "layout": "IPY_MODEL_e0c8fab9d3314cafbc4c9dd1a0166b58"
     }
    },
    "5270bfa162654ac79293e6abada9e9b9": {
     "model_module": "@jupyter-widgets/base",
     "model_module_version": "1.2.0",
     "model_name": "LayoutModel",
     "state": {
      "_model_module": "@jupyter-widgets/base",
      "_model_module_version": "1.2.0",
      "_model_name": "LayoutModel",
      "_view_count": null,
      "_view_module": "@jupyter-widgets/base",
      "_view_module_version": "1.2.0",
      "_view_name": "LayoutView",
      "align_content": null,
      "align_items": null,
      "align_self": null,
      "border": null,
      "bottom": null,
      "display": null,
      "flex": null,
      "flex_flow": null,
      "grid_area": null,
      "grid_auto_columns": null,
      "grid_auto_flow": null,
      "grid_auto_rows": null,
      "grid_column": null,
      "grid_gap": null,
      "grid_row": null,
      "grid_template_areas": null,
      "grid_template_columns": null,
      "grid_template_rows": null,
      "height": null,
      "justify_content": null,
      "justify_items": null,
      "left": null,
      "margin": null,
      "max_height": null,
      "max_width": null,
      "min_height": null,
      "min_width": null,
      "object_fit": null,
      "object_position": null,
      "order": null,
      "overflow": null,
      "overflow_x": null,
      "overflow_y": null,
      "padding": null,
      "right": null,
      "top": null,
      "visibility": null,
      "width": null
     }
    },
    "73fab91724d8461fb8e7f22396ea51f2": {
     "model_module": "@jupyter-widgets/controls",
     "model_module_version": "1.5.0",
     "model_name": "HTMLModel",
     "state": {
      "_dom_classes": [],
      "_model_module": "@jupyter-widgets/controls",
      "_model_module_version": "1.5.0",
      "_model_name": "HTMLModel",
      "_view_count": null,
      "_view_module": "@jupyter-widgets/controls",
      "_view_module_version": "1.5.0",
      "_view_name": "HTMLView",
      "description": "",
      "description_tooltip": null,
      "layout": "IPY_MODEL_d897d8fbacd2485e9265d2f3d19698fc",
      "placeholder": "​",
      "style": "IPY_MODEL_19f7e7e6123044a9939dd9f097166c9e",
      "value": "<br>"
     }
    },
    "84905904c7fb4c349a4fe0466d621aa8": {
     "model_module": "@jupyter-widgets/controls",
     "model_module_version": "1.5.0",
     "model_name": "LabelModel",
     "state": {
      "_dom_classes": [],
      "_model_module": "@jupyter-widgets/controls",
      "_model_module_version": "1.5.0",
      "_model_name": "LabelModel",
      "_view_count": null,
      "_view_module": "@jupyter-widgets/controls",
      "_view_module_version": "1.5.0",
      "_view_name": "LabelView",
      "description": "",
      "description_tooltip": null,
      "layout": "IPY_MODEL_c182143398cf413788ca31949ed1182f",
      "placeholder": "​",
      "style": "IPY_MODEL_1bb3c3ee3c5140d9b336a8ded87efcd9",
      "value": "giorni ospedalizzazione"
     }
    },
    "8df6e7fb51ea4636b94a5af036892e8c": {
     "model_module": "@jupyter-widgets/controls",
     "model_module_version": "1.5.0",
     "model_name": "ToggleButtonsModel",
     "state": {
      "_dom_classes": [],
      "_model_module": "@jupyter-widgets/controls",
      "_model_module_version": "1.5.0",
      "_model_name": "ToggleButtonsModel",
      "_options_labels": [
       "2",
       "4",
       "6",
       "8",
       "10",
       "12"
      ],
      "_view_count": null,
      "_view_module": "@jupyter-widgets/controls",
      "_view_module_version": "1.5.0",
      "_view_name": "ToggleButtonsView",
      "button_style": "",
      "description": "",
      "description_tooltip": null,
      "disabled": false,
      "icons": [],
      "index": 0,
      "layout": "IPY_MODEL_0e4e13adc7974c079e4fcfb97f7fab12",
      "style": "IPY_MODEL_99c016a6cd9a490a90575799fc8b4ad4",
      "tooltips": []
     }
    },
    "96eb16508cfc4641aad9cb411ab60c0b": {
     "model_module": "@jupyter-widgets/controls",
     "model_module_version": "1.5.0",
     "model_name": "VBoxModel",
     "state": {
      "_dom_classes": [],
      "_model_module": "@jupyter-widgets/controls",
      "_model_module_version": "1.5.0",
      "_model_name": "VBoxModel",
      "_view_count": null,
      "_view_module": "@jupyter-widgets/controls",
      "_view_module_version": "1.5.0",
      "_view_name": "VBoxView",
      "box_style": "",
      "children": [
       "IPY_MODEL_73fab91724d8461fb8e7f22396ea51f2",
       "IPY_MODEL_3a8298ca146d4989a798894dd0a92f1a"
      ],
      "layout": "IPY_MODEL_5270bfa162654ac79293e6abada9e9b9"
     }
    },
    "99c016a6cd9a490a90575799fc8b4ad4": {
     "model_module": "@jupyter-widgets/controls",
     "model_module_version": "1.5.0",
     "model_name": "ToggleButtonsStyleModel",
     "state": {
      "_model_module": "@jupyter-widgets/controls",
      "_model_module_version": "1.5.0",
      "_model_name": "ToggleButtonsStyleModel",
      "_view_count": null,
      "_view_module": "@jupyter-widgets/base",
      "_view_module_version": "1.2.0",
      "_view_name": "StyleView",
      "button_width": "",
      "description_width": "",
      "font_weight": ""
     }
    },
    "c182143398cf413788ca31949ed1182f": {
     "model_module": "@jupyter-widgets/base",
     "model_module_version": "1.2.0",
     "model_name": "LayoutModel",
     "state": {
      "_model_module": "@jupyter-widgets/base",
      "_model_module_version": "1.2.0",
      "_model_name": "LayoutModel",
      "_view_count": null,
      "_view_module": "@jupyter-widgets/base",
      "_view_module_version": "1.2.0",
      "_view_name": "LayoutView",
      "align_content": null,
      "align_items": null,
      "align_self": null,
      "border": null,
      "bottom": null,
      "display": "flex",
      "flex": null,
      "flex_flow": null,
      "grid_area": null,
      "grid_auto_columns": null,
      "grid_auto_flow": null,
      "grid_auto_rows": null,
      "grid_column": null,
      "grid_gap": null,
      "grid_row": null,
      "grid_template_areas": null,
      "grid_template_columns": null,
      "grid_template_rows": null,
      "height": null,
      "justify_content": "center",
      "justify_items": null,
      "left": null,
      "margin": null,
      "max_height": null,
      "max_width": null,
      "min_height": null,
      "min_width": null,
      "object_fit": null,
      "object_position": null,
      "order": null,
      "overflow": null,
      "overflow_x": null,
      "overflow_y": null,
      "padding": null,
      "right": null,
      "top": null,
      "visibility": null,
      "width": null
     }
    },
    "d897d8fbacd2485e9265d2f3d19698fc": {
     "model_module": "@jupyter-widgets/base",
     "model_module_version": "1.2.0",
     "model_name": "LayoutModel",
     "state": {
      "_model_module": "@jupyter-widgets/base",
      "_model_module_version": "1.2.0",
      "_model_name": "LayoutModel",
      "_view_count": null,
      "_view_module": "@jupyter-widgets/base",
      "_view_module_version": "1.2.0",
      "_view_name": "LayoutView",
      "align_content": null,
      "align_items": null,
      "align_self": null,
      "border": null,
      "bottom": null,
      "display": null,
      "flex": null,
      "flex_flow": null,
      "grid_area": null,
      "grid_auto_columns": null,
      "grid_auto_flow": null,
      "grid_auto_rows": null,
      "grid_column": null,
      "grid_gap": null,
      "grid_row": null,
      "grid_template_areas": null,
      "grid_template_columns": null,
      "grid_template_rows": null,
      "height": null,
      "justify_content": null,
      "justify_items": null,
      "left": null,
      "margin": null,
      "max_height": null,
      "max_width": null,
      "min_height": null,
      "min_width": null,
      "object_fit": null,
      "object_position": null,
      "order": null,
      "overflow": null,
      "overflow_x": null,
      "overflow_y": null,
      "padding": null,
      "right": null,
      "top": null,
      "visibility": null,
      "width": null
     }
    },
    "e0c8fab9d3314cafbc4c9dd1a0166b58": {
     "model_module": "@jupyter-widgets/base",
     "model_module_version": "1.2.0",
     "model_name": "LayoutModel",
     "state": {
      "_model_module": "@jupyter-widgets/base",
      "_model_module_version": "1.2.0",
      "_model_name": "LayoutModel",
      "_view_count": null,
      "_view_module": "@jupyter-widgets/base",
      "_view_module_version": "1.2.0",
      "_view_name": "LayoutView",
      "align_content": null,
      "align_items": null,
      "align_self": null,
      "border": null,
      "bottom": null,
      "display": null,
      "flex": null,
      "flex_flow": null,
      "grid_area": null,
      "grid_auto_columns": null,
      "grid_auto_flow": null,
      "grid_auto_rows": null,
      "grid_column": null,
      "grid_gap": null,
      "grid_row": null,
      "grid_template_areas": null,
      "grid_template_columns": null,
      "grid_template_rows": null,
      "height": null,
      "justify_content": null,
      "justify_items": null,
      "left": null,
      "margin": null,
      "max_height": null,
      "max_width": null,
      "min_height": null,
      "min_width": null,
      "object_fit": null,
      "object_position": null,
      "order": null,
      "overflow": null,
      "overflow_x": null,
      "overflow_y": null,
      "padding": null,
      "right": null,
      "top": null,
      "visibility": null,
      "width": null
     }
    }
   }
  }
 },
 "nbformat": 4,
 "nbformat_minor": 4
}
